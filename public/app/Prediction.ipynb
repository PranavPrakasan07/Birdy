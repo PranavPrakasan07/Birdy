{
 "cells": [
  {
   "cell_type": "markdown",
   "metadata": {},
   "source": [
    "# Prediction"
   ]
  },
  {
   "cell_type": "code",
   "execution_count": 27,
   "metadata": {},
   "outputs": [],
   "source": [
    "from tensorflow.keras.models import load_model"
   ]
  },
  {
   "cell_type": "code",
   "execution_count": 28,
   "metadata": {},
   "outputs": [],
   "source": [
    "from tensorflow.keras.preprocessing import image"
   ]
  },
  {
   "cell_type": "code",
   "execution_count": 40,
   "metadata": {},
   "outputs": [],
   "source": [
    "model = load_model('D:/DOWNLOADS/DOWNLOADS Brave/Birdy/Model/Notebook/birdModel.h5')"
   ]
  },
  {
   "cell_type": "code",
   "execution_count": 41,
   "metadata": {},
   "outputs": [],
   "source": [
    "img = image.load_img('D:/DOWNLOADS/DOWNLOADS Brave/Birdy/Model/Notebook/philippine_eagle.jpg', target_size = (64,64))"
   ]
  },
  {
   "cell_type": "code",
   "execution_count": 42,
   "metadata": {},
   "outputs": [
    {
     "data": {
      "text/plain": [
       "PIL.Image.Image"
      ]
     },
     "execution_count": 42,
     "metadata": {},
     "output_type": "execute_result"
    }
   ],
   "source": [
    "type(img)"
   ]
  },
  {
   "cell_type": "code",
   "execution_count": 43,
   "metadata": {},
   "outputs": [],
   "source": [
    "x = image.img_to_array(img)"
   ]
  },
  {
   "cell_type": "code",
   "execution_count": 44,
   "metadata": {},
   "outputs": [
    {
     "data": {
      "text/plain": [
       "numpy.ndarray"
      ]
     },
     "execution_count": 44,
     "metadata": {},
     "output_type": "execute_result"
    }
   ],
   "source": [
    "type(x)"
   ]
  },
  {
   "cell_type": "code",
   "execution_count": 45,
   "metadata": {},
   "outputs": [],
   "source": [
    "import numpy as np"
   ]
  },
  {
   "cell_type": "code",
   "execution_count": 46,
   "metadata": {},
   "outputs": [],
   "source": [
    "x = np.expand_dims(x, axis = 0)"
   ]
  },
  {
   "cell_type": "code",
   "execution_count": null,
   "metadata": {},
   "outputs": [],
   "source": []
  },
  {
   "cell_type": "code",
   "execution_count": 47,
   "metadata": {},
   "outputs": [],
   "source": [
    "pred = np.argmax(model.predict(x))"
   ]
  },
  {
   "cell_type": "code",
   "execution_count": 48,
   "metadata": {},
   "outputs": [
    {
     "data": {
      "text/plain": [
       "209"
      ]
     },
     "execution_count": 48,
     "metadata": {},
     "output_type": "execute_result"
    }
   ],
   "source": [
    "pred"
   ]
  },
  {
   "cell_type": "code",
   "execution_count": 49,
   "metadata": {},
   "outputs": [],
   "source": [
    "d = {'AFRICAN CROWNED CRANE': 0,\n",
    " 'AFRICAN FIREFINCH': 1,\n",
    " 'ALBATROSS': 2,\n",
    " 'ALEXANDRINE PARAKEET': 3,\n",
    " 'AMERICAN AVOCET': 4,\n",
    " 'AMERICAN BITTERN': 5,\n",
    " 'AMERICAN COOT': 6,\n",
    " 'AMERICAN GOLDFINCH': 7,\n",
    " 'AMERICAN KESTREL': 8,\n",
    " 'AMERICAN PIPIT': 9,\n",
    " 'AMERICAN REDSTART': 10,\n",
    " 'ANHINGA': 11,\n",
    " 'ANNAS HUMMINGBIRD': 12,\n",
    " 'ANTBIRD': 13,\n",
    " 'ARARIPE MANAKIN': 14,\n",
    " 'ASIAN CRESTED IBIS': 15,\n",
    " 'BALD EAGLE': 16,\n",
    " 'BALD IBIS': 17,\n",
    " 'BALI STARLING': 18,\n",
    " 'BALTIMORE ORIOLE': 19,\n",
    " 'BANANAQUIT': 20,\n",
    " 'BANDED BROADBILL': 21,\n",
    " 'BANDED PITA': 22,\n",
    " 'BAR-TAILED GODWIT': 23,\n",
    " 'BARN OWL': 24,\n",
    " 'BARN SWALLOW': 25,\n",
    " 'BARRED PUFFBIRD': 26,\n",
    " 'BAY-BREASTED WARBLER': 27,\n",
    " 'BEARDED BARBET': 28,\n",
    " 'BEARDED BELLBIRD': 29,\n",
    " 'BEARDED REEDLING': 30,\n",
    " 'BELTED KINGFISHER': 31,\n",
    " 'BIRD OF PARADISE': 32,\n",
    " 'BLACK & YELLOW bROADBILL': 33,\n",
    " 'BLACK FRANCOLIN': 34,\n",
    " 'BLACK SKIMMER': 35,\n",
    " 'BLACK SWAN': 36,\n",
    " 'BLACK TAIL CRAKE': 37,\n",
    " 'BLACK THROATED BUSHTIT': 38,\n",
    " 'BLACK THROATED WARBLER': 39,\n",
    " 'BLACK VULTURE': 40,\n",
    " 'BLACK-CAPPED CHICKADEE': 41,\n",
    " 'BLACK-NECKED GREBE': 42,\n",
    " 'BLACK-THROATED SPARROW': 43,\n",
    " 'BLACKBURNIAM WARBLER': 44,\n",
    " 'BLONDE CRESTED WOODPECKER': 45,\n",
    " 'BLUE GROUSE': 46,\n",
    " 'BLUE HERON': 47,\n",
    " 'BOBOLINK': 48,\n",
    " 'BORNEAN BRISTLEHEAD': 49,\n",
    " 'BORNEAN LEAFBIRD': 50,\n",
    " 'BORNEAN PHEASANT': 51,\n",
    " 'BROWN CREPPER': 52,\n",
    " 'BROWN NOODY': 53,\n",
    " 'BROWN THRASHER': 54,\n",
    " 'BULWERS PHEASANT': 55,\n",
    " 'CACTUS WREN': 56,\n",
    " 'CALIFORNIA CONDOR': 57,\n",
    " 'CALIFORNIA GULL': 58,\n",
    " 'CALIFORNIA QUAIL': 59,\n",
    " 'CANARY': 60,\n",
    " 'CAPE MAY WARBLER': 61,\n",
    " 'CAPPED HERON': 62,\n",
    " 'CAPUCHINBIRD': 63,\n",
    " 'CARMINE BEE-EATER': 64,\n",
    " 'CASPIAN TERN': 65,\n",
    " 'CASSOWARY': 66,\n",
    " 'CEDAR WAXWING': 67,\n",
    " 'CERULEAN WARBLER': 68,\n",
    " 'CHARA DE COLLAR': 69,\n",
    " 'CHIPPING SPARROW': 70,\n",
    " 'CHUKAR PARTRIDGE': 71,\n",
    " 'CINNAMON TEAL': 72,\n",
    " 'CLARKS NUTCRACKER': 73,\n",
    " 'COCK OF THE  ROCK': 74,\n",
    " 'COCKATOO': 75,\n",
    " 'COLLARED ARACARI': 76,\n",
    " 'COMMON FIRECREST': 77,\n",
    " 'COMMON GRACKLE': 78,\n",
    " 'COMMON HOUSE MARTIN': 79,\n",
    " 'COMMON LOON': 80,\n",
    " 'COMMON POORWILL': 81,\n",
    " 'COMMON STARLING': 82,\n",
    " 'COUCHS KINGBIRD': 83,\n",
    " 'CRESTED AUKLET': 84,\n",
    " 'CRESTED CARACARA': 85,\n",
    " 'CRESTED NUTHATCH': 86,\n",
    " 'CRIMSON SUNBIRD': 87,\n",
    " 'CROW': 88,\n",
    " 'CROWNED PIGEON': 89,\n",
    " 'CUBAN TODY': 90,\n",
    " 'CUBAN TROGON': 91,\n",
    " 'CURL CRESTED ARACURI': 92,\n",
    " 'D-ARNAUDS BARBET': 93,\n",
    " 'DARK EYED JUNCO': 94,\n",
    " 'DOUBLE BARRED FINCH': 95,\n",
    " 'DOUBLE BRESTED CORMARANT': 96,\n",
    " 'DOWNY WOODPECKER': 97,\n",
    " 'EASTERN BLUEBIRD': 98,\n",
    " 'EASTERN MEADOWLARK': 99,\n",
    " 'EASTERN ROSELLA': 100,\n",
    " 'EASTERN TOWEE': 101,\n",
    " 'ELEGANT TROGON': 102,\n",
    " 'ELLIOTS  PHEASANT': 103,\n",
    " 'EMPEROR PENGUIN': 104,\n",
    " 'EMU': 105,\n",
    " 'ENGGANO MYNA': 106,\n",
    " 'EURASIAN GOLDEN ORIOLE': 107,\n",
    " 'EURASIAN MAGPIE': 108,\n",
    " 'EVENING GROSBEAK': 109,\n",
    " 'FAIRY BLUEBIRD': 110,\n",
    " 'FIRE TAILLED MYZORNIS': 111,\n",
    " 'FLAME TANAGER': 112,\n",
    " 'FLAMINGO': 113,\n",
    " 'FRIGATE': 114,\n",
    " 'GAMBELS QUAIL': 115,\n",
    " 'GANG GANG COCKATOO': 116,\n",
    " 'GILA WOODPECKER': 117,\n",
    " 'GILDED FLICKER': 118,\n",
    " 'GLOSSY IBIS': 119,\n",
    " 'GO AWAY BIRD': 120,\n",
    " 'GOLD WING WARBLER': 121,\n",
    " 'GOLDEN CHEEKED WARBLER': 122,\n",
    " 'GOLDEN CHLOROPHONIA': 123,\n",
    " 'GOLDEN EAGLE': 124,\n",
    " 'GOLDEN PHEASANT': 125,\n",
    " 'GOLDEN PIPIT': 126,\n",
    " 'GOULDIAN FINCH': 127,\n",
    " 'GRAY CATBIRD': 128,\n",
    " 'GRAY PARTRIDGE': 129,\n",
    " 'GREAT POTOO': 130,\n",
    " 'GREATOR SAGE GROUSE': 131,\n",
    " 'GREEN BROADBILL': 132,\n",
    " 'GREEN JAY': 133,\n",
    " 'GREEN MAGPIE': 134,\n",
    " 'GREY PLOVER': 135,\n",
    " 'GUINEA TURACO': 136,\n",
    " 'GUINEAFOWL': 137,\n",
    " 'GYRFALCON': 138,\n",
    " 'HARPY EAGLE': 139,\n",
    " 'HAWAIIAN GOOSE': 140,\n",
    " 'HELMET VANGA': 141,\n",
    " 'HIMALAYAN MONAL': 142,\n",
    " 'HOATZIN': 143,\n",
    " 'HOODED MERGANSER': 144,\n",
    " 'HOOPOES': 145,\n",
    " 'HORNBILL': 146,\n",
    " 'HORNED GUAN': 147,\n",
    " 'HORNED LARK': 148,\n",
    " 'HORNED SUNGEM': 149,\n",
    " 'HOUSE FINCH': 150,\n",
    " 'HOUSE SPARROW': 151,\n",
    " 'IMPERIAL SHAQ': 152,\n",
    " 'INCA TERN': 153,\n",
    " 'INDIAN BUSTARD': 154,\n",
    " 'INDIAN PITTA': 155,\n",
    " 'INDIGO BUNTING': 156,\n",
    " 'JABIRU': 157,\n",
    " 'JAVA SPARROW': 158,\n",
    " 'KAGU': 159,\n",
    " 'KAKAPO': 160,\n",
    " 'KILLDEAR': 161,\n",
    " 'KING VULTURE': 162,\n",
    " 'KIWI': 163,\n",
    " 'KOOKABURRA': 164,\n",
    " 'LARK BUNTING': 165,\n",
    " 'LEARS MACAW': 166,\n",
    " 'LILAC ROLLER': 167,\n",
    " 'LONG-EARED OWL': 168,\n",
    " 'MAGPIE GOOSE': 169,\n",
    " 'MALABAR HORNBILL': 170,\n",
    " 'MALACHITE KINGFISHER': 171,\n",
    " 'MALAGASY WHITE EYE': 172,\n",
    " 'MALEO': 173,\n",
    " 'MALLARD DUCK': 174,\n",
    " 'MANDRIN DUCK': 175,\n",
    " 'MARABOU STORK': 176,\n",
    " 'MASKED BOOBY': 177,\n",
    " 'MASKED LAPWING': 178,\n",
    " 'MIKADO  PHEASANT': 179,\n",
    " 'MOURNING DOVE': 180,\n",
    " 'MYNA': 181,\n",
    " 'NICOBAR PIGEON': 182,\n",
    " 'NOISY FRIARBIRD': 183,\n",
    " 'NORTHERN BALD IBIS': 184,\n",
    " 'NORTHERN CARDINAL': 185,\n",
    " 'NORTHERN FLICKER': 186,\n",
    " 'NORTHERN GANNET': 187,\n",
    " 'NORTHERN GOSHAWK': 188,\n",
    " 'NORTHERN JACANA': 189,\n",
    " 'NORTHERN MOCKINGBIRD': 190,\n",
    " 'NORTHERN PARULA': 191,\n",
    " 'NORTHERN RED BISHOP': 192,\n",
    " 'NORTHERN SHOVELER': 193,\n",
    " 'OCELLATED TURKEY': 194,\n",
    " 'OKINAWA RAIL': 195,\n",
    " 'ORANGE BRESTED BUNTING': 196,\n",
    " 'OSPREY': 197,\n",
    " 'OSTRICH': 198,\n",
    " 'OVENBIRD': 199,\n",
    " 'OYSTER CATCHER': 200,\n",
    " 'PAINTED BUNTIG': 201,\n",
    " 'PALILA': 202,\n",
    " 'PARADISE TANAGER': 203,\n",
    " 'PARAKETT  AKULET': 204,\n",
    " 'PARUS MAJOR': 205,\n",
    " 'PEACOCK': 206,\n",
    " 'PELICAN': 207,\n",
    " 'PEREGRINE FALCON': 208,\n",
    " 'PHILIPPINE EAGLE': 209,\n",
    " 'PINK ROBIN': 210,\n",
    " 'PUFFIN': 211,\n",
    " 'PURPLE FINCH': 212,\n",
    " 'PURPLE GALLINULE': 213,\n",
    " 'PURPLE MARTIN': 214,\n",
    " 'PURPLE SWAMPHEN': 215,\n",
    " 'PYGMY KINGFISHER': 216,\n",
    " 'QUETZAL': 217,\n",
    " 'RAINBOW LORIKEET': 218,\n",
    " 'RAZORBILL': 219,\n",
    " 'RED BEARDED BEE EATER': 220,\n",
    " 'RED BELLIED PITTA': 221,\n",
    " 'RED BROWED FINCH': 222,\n",
    " 'RED FACED CORMORANT': 223,\n",
    " 'RED FACED WARBLER': 224,\n",
    " 'RED HEADED DUCK': 225,\n",
    " 'RED HEADED WOODPECKER': 226,\n",
    " 'RED HONEY CREEPER': 227,\n",
    " 'RED NAPED TROGON': 228,\n",
    " 'RED TAILED HAWK': 229,\n",
    " 'RED TAILED THRUSH': 230,\n",
    " 'RED WINGED BLACKBIRD': 231,\n",
    " 'RED WISKERED BULBUL': 232,\n",
    " 'REGENT BOWERBIRD': 233,\n",
    " 'RING-NECKED PHEASANT': 234,\n",
    " 'ROADRUNNER': 235,\n",
    " 'ROBIN': 236,\n",
    " 'ROCK DOVE': 237,\n",
    " 'ROSY FACED LOVEBIRD': 238,\n",
    " 'ROUGH LEG BUZZARD': 239,\n",
    " 'ROYAL FLYCATCHER': 240,\n",
    " 'RUBY THROATED HUMMINGBIRD': 241,\n",
    " 'RUDY KINGFISHER': 242,\n",
    " 'RUFOUS KINGFISHER': 243,\n",
    " 'RUFUOS MOTMOT': 244,\n",
    " 'SAMATRAN THRUSH': 245,\n",
    " 'SAND MARTIN': 246,\n",
    " 'SANDHILL CRANE': 247,\n",
    " 'SCARLET IBIS': 248,\n",
    " 'SCARLET MACAW': 249,\n",
    " 'SCARLET TANAGER': 250,\n",
    " 'SHOEBILL': 251,\n",
    " 'SHORT BILLED DOWITCHER': 252,\n",
    " 'SMITHS LONGSPUR': 253,\n",
    " 'SNOWY EGRET': 254,\n",
    " 'SNOWY OWL': 255,\n",
    " 'SORA': 256,\n",
    " 'SPANGLED COTINGA': 257,\n",
    " 'SPLENDID WREN': 258,\n",
    " 'SPOON BILED SANDPIPER': 259,\n",
    " 'SPOONBILL': 260,\n",
    " 'SRI LANKA BLUE MAGPIE': 261,\n",
    " 'STEAMER DUCK': 262,\n",
    " 'STORK BILLED KINGFISHER': 263,\n",
    " 'STRAWBERRY FINCH': 264,\n",
    " 'STRIPPED MANAKIN': 265,\n",
    " 'STRIPPED SWALLOW': 266,\n",
    " 'SUPERB STARLING': 267,\n",
    " 'SWINHOES PHEASANT': 268,\n",
    " 'TAIWAN MAGPIE': 269,\n",
    " 'TAKAHE': 270,\n",
    " 'TASMANIAN HEN': 271,\n",
    " 'TEAL DUCK': 272,\n",
    " 'TIT MOUSE': 273,\n",
    " 'TOUCHAN': 274,\n",
    " 'TOWNSENDS WARBLER': 275,\n",
    " 'TREE SWALLOW': 276,\n",
    " 'TRUMPTER SWAN': 277,\n",
    " 'TURKEY VULTURE': 278,\n",
    " 'TURQUOISE MOTMOT': 279,\n",
    " 'UMBRELLA BIRD': 280,\n",
    " 'VARIED THRUSH': 281,\n",
    " 'VENEZUELIAN TROUPIAL': 282,\n",
    " 'VERMILION FLYCATHER': 283,\n",
    " 'VICTORIA CROWNED PIGEON': 284,\n",
    " 'VIOLET GREEN SWALLOW': 285,\n",
    " 'VULTURINE GUINEAFOWL': 286,\n",
    " 'WALL CREAPER': 287,\n",
    " 'WATTLED CURASSOW': 288,\n",
    " 'WHIMBREL': 289,\n",
    " 'WHITE CHEEKED TURACO': 290,\n",
    " 'WHITE NECKED RAVEN': 291,\n",
    " 'WHITE TAILED TROPIC': 292,\n",
    " 'WHITE THROATED BEE EATER': 293,\n",
    " 'WILD TURKEY': 294,\n",
    " 'WILSONS BIRD OF PARADISE': 295,\n",
    " 'WOOD DUCK': 296,\n",
    " 'YELLOW BELLIED FLOWERPECKER': 297,\n",
    " 'YELLOW CACIQUE': 298,\n",
    " 'YELLOW HEADED BLACKBIRD': 299}\n"
   ]
  },
  {
   "cell_type": "code",
   "execution_count": 50,
   "metadata": {},
   "outputs": [
    {
     "name": "stdout",
     "output_type": "stream",
     "text": [
      "('PHILIPPINE EAGLE', 209)\n"
     ]
    }
   ],
   "source": [
    "print(list(d.items())[pred])"
   ]
  },
  {
   "cell_type": "code",
   "execution_count": null,
   "metadata": {},
   "outputs": [],
   "source": []
  },
  {
   "cell_type": "code",
   "execution_count": null,
   "metadata": {},
   "outputs": [],
   "source": []
  },
  {
   "cell_type": "code",
   "execution_count": null,
   "metadata": {},
   "outputs": [],
   "source": []
  },
  {
   "cell_type": "code",
   "execution_count": null,
   "metadata": {},
   "outputs": [],
   "source": []
  },
  {
   "cell_type": "code",
   "execution_count": null,
   "metadata": {},
   "outputs": [],
   "source": []
  }
 ],
 "metadata": {
  "kernelspec": {
   "display_name": "Python 3",
   "language": "python",
   "name": "python3"
  },
  "language_info": {
   "codemirror_mode": {
    "name": "ipython",
    "version": 3
   },
   "file_extension": ".py",
   "mimetype": "text/x-python",
   "name": "python",
   "nbconvert_exporter": "python",
   "pygments_lexer": "ipython3",
   "version": "3.8.8"
  }
 },
 "nbformat": 4,
 "nbformat_minor": 4
}
